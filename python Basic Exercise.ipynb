{
 "cells": [
  {
   "cell_type": "code",
   "execution_count": 1,
   "id": "8ccbbb31",
   "metadata": {},
   "outputs": [
    {
     "data": {
      "text/plain": [
       "(2012, 12, 21)"
      ]
     },
     "execution_count": 1,
     "metadata": {},
     "output_type": "execute_result"
    }
   ],
   "source": [
    "data = [ \"ACME\",50, 91.1, (2012,12,21)]\n",
    "name, shares, price, date = data\n",
    "name\n",
    "shares\n",
    "price\n",
    "date\n",
    "\n"
   ]
  },
  {
   "cell_type": "code",
   "execution_count": 31,
   "id": "3f9ab381",
   "metadata": {},
   "outputs": [
    {
     "data": {
      "text/plain": [
       "'ACME'"
      ]
     },
     "execution_count": 31,
     "metadata": {},
     "output_type": "execute_result"
    }
   ],
   "source": [
    "name"
   ]
  },
  {
   "cell_type": "code",
   "execution_count": 32,
   "id": "609ce802",
   "metadata": {},
   "outputs": [
    {
     "data": {
      "text/plain": [
       "91.1"
      ]
     },
     "execution_count": 32,
     "metadata": {},
     "output_type": "execute_result"
    }
   ],
   "source": [
    "price"
   ]
  },
  {
   "cell_type": "code",
   "execution_count": 33,
   "id": "e767fff3",
   "metadata": {},
   "outputs": [
    {
     "data": {
      "text/plain": [
       "50"
      ]
     },
     "execution_count": 33,
     "metadata": {},
     "output_type": "execute_result"
    }
   ],
   "source": [
    "shares"
   ]
  },
  {
   "cell_type": "code",
   "execution_count": 34,
   "id": "422b702c",
   "metadata": {},
   "outputs": [
    {
     "data": {
      "text/plain": [
       "(2012, 12, 21)"
      ]
     },
     "execution_count": 34,
     "metadata": {},
     "output_type": "execute_result"
    }
   ],
   "source": [
    "date"
   ]
  },
  {
   "cell_type": "code",
   "execution_count": 25,
   "id": "429d176f",
   "metadata": {},
   "outputs": [],
   "source": [
    "data = [ \"ACME\", 50, 91.1, (2012,12,21)]\n",
    "name, shares, price, (year, mon, day) = data\n"
   ]
  },
  {
   "cell_type": "code",
   "execution_count": 26,
   "id": "7c4981f2",
   "metadata": {},
   "outputs": [
    {
     "data": {
      "text/plain": [
       "'ACME'"
      ]
     },
     "execution_count": 26,
     "metadata": {},
     "output_type": "execute_result"
    }
   ],
   "source": [
    "name\n"
   ]
  },
  {
   "cell_type": "code",
   "execution_count": 27,
   "id": "4635591a",
   "metadata": {},
   "outputs": [
    {
     "data": {
      "text/plain": [
       "2012"
      ]
     },
     "execution_count": 27,
     "metadata": {},
     "output_type": "execute_result"
    }
   ],
   "source": [
    "year"
   ]
  },
  {
   "cell_type": "code",
   "execution_count": 28,
   "id": "98afed2a",
   "metadata": {},
   "outputs": [
    {
     "data": {
      "text/plain": [
       "12"
      ]
     },
     "execution_count": 28,
     "metadata": {},
     "output_type": "execute_result"
    }
   ],
   "source": [
    "mon"
   ]
  },
  {
   "cell_type": "code",
   "execution_count": 38,
   "id": "6cce6a51",
   "metadata": {},
   "outputs": [
    {
     "data": {
      "text/plain": [
       "1"
      ]
     },
     "execution_count": 38,
     "metadata": {},
     "output_type": "execute_result"
    }
   ],
   "source": [
    "p = ( 1,2)\n",
    "x, y= p\n",
    "x"
   ]
  },
  {
   "cell_type": "code",
   "execution_count": 39,
   "id": "1b1561a9",
   "metadata": {},
   "outputs": [
    {
     "data": {
      "text/plain": [
       "2"
      ]
     },
     "execution_count": 39,
     "metadata": {},
     "output_type": "execute_result"
    }
   ],
   "source": [
    "y"
   ]
  },
  {
   "cell_type": "code",
   "execution_count": 40,
   "id": "c2949fd9",
   "metadata": {},
   "outputs": [
    {
     "data": {
      "text/plain": [
       "50"
      ]
     },
     "execution_count": 40,
     "metadata": {},
     "output_type": "execute_result"
    }
   ],
   "source": [
    "data = [ \"ACME\", 50, 91.1, (2012,12,21)]\n",
    "_, shares, price, _ = data\n",
    "shares"
   ]
  },
  {
   "cell_type": "code",
   "execution_count": 41,
   "id": "d9b9de6e",
   "metadata": {},
   "outputs": [
    {
     "data": {
      "text/plain": [
       "91.1"
      ]
     },
     "execution_count": 41,
     "metadata": {},
     "output_type": "execute_result"
    }
   ],
   "source": [
    "price"
   ]
  },
  {
   "cell_type": "code",
   "execution_count": 42,
   "id": "70fe6170",
   "metadata": {},
   "outputs": [
    {
     "data": {
      "text/plain": [
       "(2012, 12, 21)"
      ]
     },
     "execution_count": 42,
     "metadata": {},
     "output_type": "execute_result"
    }
   ],
   "source": [
    "_"
   ]
  },
  {
   "cell_type": "code",
   "execution_count": 43,
   "id": "30b16415",
   "metadata": {},
   "outputs": [],
   "source": [
    "def drop_first_last(grades):\n",
    "    first, *middle, last = grades\n",
    "    return avg(middle)"
   ]
  },
  {
   "cell_type": "code",
   "execution_count": 44,
   "id": "a4ace655",
   "metadata": {},
   "outputs": [
    {
     "ename": "NameError",
     "evalue": "name 'sales_record' is not defined",
     "output_type": "error",
     "traceback": [
      "\u001b[1;31m---------------------------------------------------------------------------\u001b[0m",
      "\u001b[1;31mNameError\u001b[0m                                 Traceback (most recent call last)",
      "\u001b[1;32m<ipython-input-44-3ce7ea0f23d8>\u001b[0m in \u001b[0;36m<module>\u001b[1;34m\u001b[0m\n\u001b[1;32m----> 1\u001b[1;33m \u001b[1;33m*\u001b[0m\u001b[0mtrailing_qrs\u001b[0m\u001b[1;33m,\u001b[0m \u001b[0mcurrent_qtr\u001b[0m \u001b[1;33m=\u001b[0m \u001b[0msales_record\u001b[0m\u001b[1;33m\u001b[0m\u001b[1;33m\u001b[0m\u001b[0m\n\u001b[0m\u001b[0;32m      2\u001b[0m \u001b[0mtrailing_avg\u001b[0m \u001b[1;33m=\u001b[0m \u001b[0msum\u001b[0m \u001b[1;33m(\u001b[0m\u001b[0mtrailing_qtrs\u001b[0m\u001b[1;33m)\u001b[0m\u001b[1;33m/\u001b[0m \u001b[0mlen\u001b[0m\u001b[1;33m(\u001b[0m\u001b[0mtrailing_qtrs\u001b[0m\u001b[1;33m)\u001b[0m\u001b[1;33m\u001b[0m\u001b[1;33m\u001b[0m\u001b[0m\n\u001b[0;32m      3\u001b[0m \u001b[1;32mreturn\u001b[0m \u001b[0mavg_comparation\u001b[0m\u001b[1;33m(\u001b[0m\u001b[0mtrailing_avg\u001b[0m\u001b[1;33m,\u001b[0m \u001b[0mcurrent_qtr\u001b[0m\u001b[1;33m)\u001b[0m\u001b[1;33m\u001b[0m\u001b[1;33m\u001b[0m\u001b[0m\n",
      "\u001b[1;31mNameError\u001b[0m: name 'sales_record' is not defined"
     ]
    }
   ],
   "source": [
    "*trailing_qrs, current_qtr = sales_record\n",
    "trailing_avg = sum (trailing_qtrs)/ len(trailing_qtrs)\n",
    "return avg_comparation(trailing_avg, current_qtr)\n"
   ]
  },
  {
   "cell_type": "code",
   "execution_count": 45,
   "id": "56112ead",
   "metadata": {},
   "outputs": [
    {
     "data": {
      "text/plain": [
       "[10, 8, 7, 1, 9, 5, 10]"
      ]
     },
     "execution_count": 45,
     "metadata": {},
     "output_type": "execute_result"
    }
   ],
   "source": [
    "*trailing, current = [10, 8, 7, 1, 9, 5, 10, 3]\n",
    "trailing"
   ]
  },
  {
   "cell_type": "code",
   "execution_count": 46,
   "id": "8f0efa9b",
   "metadata": {},
   "outputs": [
    {
     "data": {
      "text/plain": [
       "3"
      ]
     },
     "execution_count": 46,
     "metadata": {},
     "output_type": "execute_result"
    }
   ],
   "source": [
    "current"
   ]
  },
  {
   "cell_type": "code",
   "execution_count": 48,
   "id": "eef80e16",
   "metadata": {},
   "outputs": [
    {
     "data": {
      "text/plain": [
       "'nana'"
      ]
     },
     "execution_count": 48,
     "metadata": {},
     "output_type": "execute_result"
    }
   ],
   "source": [
    "*students, ich = [_, \"nana\"]\n",
    "ich"
   ]
  },
  {
   "cell_type": "code",
   "execution_count": 54,
   "id": "845dd9be",
   "metadata": {},
   "outputs": [],
   "source": [
    "records = [\n",
    "    (\"foo\", 1, 2),\n",
    "    (\"bar\", \"hello\"),\n",
    "    (\"foo\", 3, 4),\n",
    "    (\"bar\", \"world\")\n",
    "]\n"
   ]
  },
  {
   "cell_type": "code",
   "execution_count": 50,
   "id": "24a498f5",
   "metadata": {},
   "outputs": [],
   "source": [
    "def do_foo(x, y):\n",
    "    print(\"foo\", x, y)"
   ]
  },
  {
   "cell_type": "code",
   "execution_count": 51,
   "id": "d4d77886",
   "metadata": {},
   "outputs": [],
   "source": [
    "def do_bar(s):\n",
    "    print(\"bar\", s)"
   ]
  },
  {
   "cell_type": "code",
   "execution_count": 55,
   "id": "0349560f",
   "metadata": {},
   "outputs": [
    {
     "name": "stdout",
     "output_type": "stream",
     "text": [
      "foo 1 2\n",
      "bar hello\n",
      "foo 3 4\n",
      "bar world\n"
     ]
    }
   ],
   "source": [
    "for tag, *args in records:\n",
    "    if tag == \"foo\":\n",
    "        do_foo(*args)\n",
    "    elif tag == \"bar\":\n",
    "            do_bar(*args)"
   ]
  },
  {
   "cell_type": "code",
   "execution_count": 58,
   "id": "63a21517",
   "metadata": {},
   "outputs": [
    {
     "data": {
      "text/plain": [
       "'nobody'"
      ]
     },
     "execution_count": 58,
     "metadata": {},
     "output_type": "execute_result"
    }
   ],
   "source": [
    "line = 'nobody:*:-2:-2:Unprivileged User:/var/empty:/usr/bin/false'\n",
    "uname, *fields, homedir, sh = line.split(':')\n",
    "uname\n"
   ]
  },
  {
   "cell_type": "code",
   "execution_count": 59,
   "id": "1f36b5c8",
   "metadata": {},
   "outputs": [
    {
     "data": {
      "text/plain": [
       "'/usr/bin/false'"
      ]
     },
     "execution_count": 59,
     "metadata": {},
     "output_type": "execute_result"
    }
   ],
   "source": [
    "sh"
   ]
  },
  {
   "cell_type": "code",
   "execution_count": 60,
   "id": "144461e2",
   "metadata": {},
   "outputs": [
    {
     "data": {
      "text/plain": [
       "'/var/empty'"
      ]
     },
     "execution_count": 60,
     "metadata": {},
     "output_type": "execute_result"
    }
   ],
   "source": [
    "homedir"
   ]
  },
  {
   "cell_type": "code",
   "execution_count": 70,
   "id": "4170c026",
   "metadata": {},
   "outputs": [
    {
     "ename": "IndentationError",
     "evalue": "expected an indented block (<ipython-input-70-7e4054c622b6>, line 2)",
     "output_type": "error",
     "traceback": [
      "\u001b[1;36m  File \u001b[1;32m\"<ipython-input-70-7e4054c622b6>\"\u001b[1;36m, line \u001b[1;32m2\u001b[0m\n\u001b[1;33m    head, *tail = items\u001b[0m\n\u001b[1;37m    ^\u001b[0m\n\u001b[1;31mIndentationError\u001b[0m\u001b[1;31m:\u001b[0m expected an indented block\n"
     ]
    }
   ],
   "source": [
    "def sum(items):\n",
    "... head, *tail = items\n",
    "... return head + sum(tail) if tail else head\n",
    "\n",
    "sum (items)   "
   ]
  },
  {
   "cell_type": "code",
   "execution_count": 72,
   "id": "8102d6fb",
   "metadata": {},
   "outputs": [],
   "source": [
    "from collections import deque"
   ]
  },
  {
   "cell_type": "code",
   "execution_count": 74,
   "id": "1df33fd1",
   "metadata": {},
   "outputs": [
    {
     "data": {
      "text/plain": [
       "deque([1, 2, 3])"
      ]
     },
     "execution_count": 74,
     "metadata": {},
     "output_type": "execute_result"
    }
   ],
   "source": [
    "q = deque(maxlen=3)\n",
    "q.append(1)\n",
    "q.append(2)\n",
    "q.append(3)\n",
    "q"
   ]
  },
  {
   "cell_type": "code",
   "execution_count": 75,
   "id": "372af646",
   "metadata": {},
   "outputs": [
    {
     "data": {
      "text/plain": [
       "deque([2, 3, 4])"
      ]
     },
     "execution_count": 75,
     "metadata": {},
     "output_type": "execute_result"
    }
   ],
   "source": [
    "q.append(4)\n",
    "q"
   ]
  },
  {
   "cell_type": "code",
   "execution_count": 77,
   "id": "8326f314",
   "metadata": {},
   "outputs": [
    {
     "data": {
      "text/plain": [
       "deque([1, 2, 3, 'a'])"
      ]
     },
     "execution_count": 77,
     "metadata": {},
     "output_type": "execute_result"
    }
   ],
   "source": [
    "q = deque()\n",
    "q.append(1)\n",
    "q.append(2)\n",
    "q.append(3)\n",
    "q.append('a')\n",
    "q"
   ]
  },
  {
   "cell_type": "code",
   "execution_count": 79,
   "id": "80552ae8",
   "metadata": {},
   "outputs": [],
   "source": [
    "import heapq"
   ]
  },
  {
   "cell_type": "code",
   "execution_count": 81,
   "id": "60c32644",
   "metadata": {},
   "outputs": [
    {
     "data": {
      "text/plain": [
       "[42, 37, 23]"
      ]
     },
     "execution_count": 81,
     "metadata": {},
     "output_type": "execute_result"
    }
   ],
   "source": [
    "nums = [1, 8, 2, 23, 7, -4, 18, 23, 42, 37, 2]\n",
    "heapq.nlargest(3,nums)"
   ]
  },
  {
   "cell_type": "code",
   "execution_count": 83,
   "id": "bd8d4fa0",
   "metadata": {},
   "outputs": [
    {
     "data": {
      "text/plain": [
       "[-4, 1]"
      ]
     },
     "execution_count": 83,
     "metadata": {},
     "output_type": "execute_result"
    }
   ],
   "source": [
    "heapq.nsmallest(2,nums)"
   ]
  },
  {
   "cell_type": "code",
   "execution_count": 89,
   "id": "befbdde3",
   "metadata": {},
   "outputs": [
    {
     "name": "stdout",
     "output_type": "stream",
     "text": [
      "[{'name': 'YHOO', 'shares': 45, 'price': 16.35}, {'name': 'FB', 'shares': 200, 'price': 21.09}, {'name': 'HPQ', 'shares': 35, 'price': 31.75}]\n"
     ]
    }
   ],
   "source": [
    "portfolio = [\n",
    "    {'name': 'IBM', 'shares': 100, 'price':91.1},\n",
    "    {'name': 'AAPL', 'shares': 50, 'price': 543.22},\n",
    "    {'name': 'FB', 'shares': 200, 'price': 21.09},\n",
    "    {'name': 'HPQ', 'shares': 35, 'price': 31.75},\n",
    "    {'name': 'YHOO', 'shares': 45, 'price': 16.35},\n",
    "    {'name': 'ACME', 'shares': 75, 'price': 115.65}\n",
    "]\n",
    "cheap = heapq.nsmallest(3, portfolio, key = lambda s: s['price'])\n",
    "\n",
    "expensive = heapq.nlargest(3, portfolio, key = lambda s: s['price'])"
   ]
  },
  {
   "cell_type": "code",
   "execution_count": 90,
   "id": "0c282834",
   "metadata": {},
   "outputs": [
    {
     "name": "stdout",
     "output_type": "stream",
     "text": [
      "[{'name': 'YHOO', 'shares': 45, 'price': 16.35}, {'name': 'FB', 'shares': 200, 'price': 21.09}, {'name': 'HPQ', 'shares': 35, 'price': 31.75}]\n"
     ]
    }
   ],
   "source": [
    "print(cheap)"
   ]
  },
  {
   "cell_type": "code",
   "execution_count": 92,
   "id": "c859267b",
   "metadata": {},
   "outputs": [
    {
     "name": "stdout",
     "output_type": "stream",
     "text": [
      "[{'name': 'AAPL', 'shares': 50, 'price': 543.22}, {'name': 'ACME', 'shares': 75, 'price': 115.65}, {'name': 'IBM', 'shares': 100, 'price': 91.1}]\n"
     ]
    }
   ],
   "source": [
    "print(expensive)"
   ]
  },
  {
   "cell_type": "code",
   "execution_count": null,
   "id": "3473e33a",
   "metadata": {},
   "outputs": [],
   "source": []
  },
  {
   "cell_type": "code",
   "execution_count": 96,
   "id": "a2edda8f",
   "metadata": {},
   "outputs": [
    {
     "data": {
      "text/plain": [
       "15"
      ]
     },
     "execution_count": 96,
     "metadata": {},
     "output_type": "execute_result"
    }
   ],
   "source": [
    "res = lambda *args: sum(args)\n",
    "res(1,2,3,4,5)"
   ]
  },
  {
   "cell_type": "code",
   "execution_count": 102,
   "id": "843723aa",
   "metadata": {},
   "outputs": [
    {
     "data": {
      "text/plain": [
       "[-4, 2, 1, 23, 7, 2, 18, 23, 42, 37, 8]"
      ]
     },
     "execution_count": 102,
     "metadata": {},
     "output_type": "execute_result"
    }
   ],
   "source": [
    "nums = [1, 8, 2, 23, 7, -4, 18, 23, 42, 37, 2]\n",
    "import heapq\n",
    "#heap = list(nums)\n",
    "heapq.heapify(heap)\n",
    "heap"
   ]
  },
  {
   "cell_type": "code",
   "execution_count": 103,
   "id": "c39458b9",
   "metadata": {},
   "outputs": [
    {
     "data": {
      "text/plain": [
       "-4"
      ]
     },
     "execution_count": 103,
     "metadata": {},
     "output_type": "execute_result"
    }
   ],
   "source": [
    "heapq.heappop(heap)"
   ]
  },
  {
   "cell_type": "code",
   "execution_count": 104,
   "id": "fb6d507b",
   "metadata": {},
   "outputs": [
    {
     "data": {
      "text/plain": [
       "1"
      ]
     },
     "execution_count": 104,
     "metadata": {},
     "output_type": "execute_result"
    }
   ],
   "source": [
    "heapq.heappop(heap)\n"
   ]
  },
  {
   "cell_type": "code",
   "execution_count": 105,
   "id": "d09fe78d",
   "metadata": {},
   "outputs": [
    {
     "data": {
      "text/plain": [
       "2"
      ]
     },
     "execution_count": 105,
     "metadata": {},
     "output_type": "execute_result"
    }
   ],
   "source": [
    "heapq.heappop(heap)"
   ]
  },
  {
   "cell_type": "code",
   "execution_count": 106,
   "id": "9011f4ca",
   "metadata": {},
   "outputs": [
    {
     "data": {
      "text/plain": [
       "2"
      ]
     },
     "execution_count": 106,
     "metadata": {},
     "output_type": "execute_result"
    }
   ],
   "source": [
    "heapq.heappop(heap)"
   ]
  },
  {
   "cell_type": "code",
   "execution_count": 107,
   "id": "d8caef43",
   "metadata": {},
   "outputs": [
    {
     "data": {
      "text/plain": [
       "7"
      ]
     },
     "execution_count": 107,
     "metadata": {},
     "output_type": "execute_result"
    }
   ],
   "source": [
    "heapq.heappop(heap)"
   ]
  },
  {
   "cell_type": "code",
   "execution_count": 109,
   "id": "37b08d65",
   "metadata": {},
   "outputs": [],
   "source": [
    "from queue import PriorityQueue"
   ]
  },
  {
   "cell_type": "code",
   "execution_count": 113,
   "id": "f57a0917",
   "metadata": {},
   "outputs": [],
   "source": [
    "q = PriorityQueue()\n",
    "q.put((2, 'g'))\n",
    "q.put((3, 'e'))\n",
    "q.put((4, 'k'))\n",
    "q.put((5, 's'))\n",
    "q.put((1, 'e'))"
   ]
  },
  {
   "cell_type": "code",
   "execution_count": 114,
   "id": "84e3bde4",
   "metadata": {},
   "outputs": [
    {
     "data": {
      "text/plain": [
       "(1, 'e')"
      ]
     },
     "execution_count": 114,
     "metadata": {},
     "output_type": "execute_result"
    }
   ],
   "source": [
    "q.get()"
   ]
  },
  {
   "cell_type": "code",
   "execution_count": 115,
   "id": "a5d5cdd7",
   "metadata": {},
   "outputs": [
    {
     "data": {
      "text/plain": [
       "(2, 'g')"
      ]
     },
     "execution_count": 115,
     "metadata": {},
     "output_type": "execute_result"
    }
   ],
   "source": [
    "q.get()"
   ]
  },
  {
   "cell_type": "code",
   "execution_count": 116,
   "id": "2383dcad",
   "metadata": {},
   "outputs": [
    {
     "data": {
      "text/plain": [
       "(3, 'e')"
      ]
     },
     "execution_count": 116,
     "metadata": {},
     "output_type": "execute_result"
    }
   ],
   "source": [
    "q.get()"
   ]
  },
  {
   "cell_type": "code",
   "execution_count": 119,
   "id": "7a8b068b",
   "metadata": {},
   "outputs": [
    {
     "ename": "NameError",
     "evalue": "name 'Item' is not defined",
     "output_type": "error",
     "traceback": [
      "\u001b[1;31m---------------------------------------------------------------------------\u001b[0m",
      "\u001b[1;31mNameError\u001b[0m                                 Traceback (most recent call last)",
      "\u001b[1;32m<ipython-input-119-29ff4d98d7cd>\u001b[0m in \u001b[0;36m<module>\u001b[1;34m\u001b[0m\n\u001b[1;32m----> 1\u001b[1;33m \u001b[0ma\u001b[0m \u001b[1;33m=\u001b[0m \u001b[1;33m(\u001b[0m\u001b[1;36m1\u001b[0m\u001b[1;33m,\u001b[0m \u001b[1;36m0\u001b[0m\u001b[1;33m,\u001b[0m \u001b[0mItem\u001b[0m\u001b[1;33m(\u001b[0m\u001b[1;34m'foo'\u001b[0m\u001b[1;33m)\u001b[0m\u001b[1;33m)\u001b[0m\u001b[1;33m\u001b[0m\u001b[1;33m\u001b[0m\u001b[0m\n\u001b[0m\u001b[0;32m      2\u001b[0m \u001b[0mb\u001b[0m \u001b[1;33m=\u001b[0m \u001b[1;33m(\u001b[0m\u001b[1;36m5\u001b[0m\u001b[1;33m,\u001b[0m \u001b[1;36m1\u001b[0m\u001b[1;33m,\u001b[0m \u001b[0mItem\u001b[0m\u001b[1;33m(\u001b[0m\u001b[1;34m'bar'\u001b[0m\u001b[1;33m)\u001b[0m\u001b[1;33m)\u001b[0m\u001b[1;33m\u001b[0m\u001b[1;33m\u001b[0m\u001b[0m\n\u001b[0;32m      3\u001b[0m \u001b[0mc\u001b[0m \u001b[1;33m=\u001b[0m \u001b[1;33m(\u001b[0m\u001b[1;36m1\u001b[0m\u001b[1;33m,\u001b[0m \u001b[1;36m2\u001b[0m\u001b[1;33m,\u001b[0m \u001b[0mItem\u001b[0m\u001b[1;33m(\u001b[0m\u001b[1;34m'grok'\u001b[0m\u001b[1;33m)\u001b[0m\u001b[1;33m)\u001b[0m\u001b[1;33m\u001b[0m\u001b[1;33m\u001b[0m\u001b[0m\n\u001b[0;32m      4\u001b[0m \u001b[0ma\u001b[0m \u001b[1;33m<\u001b[0m \u001b[0mb\u001b[0m\u001b[1;33m\u001b[0m\u001b[1;33m\u001b[0m\u001b[0m\n",
      "\u001b[1;31mNameError\u001b[0m: name 'Item' is not defined"
     ]
    }
   ],
   "source": [
    "a = (1, 0, Item('foo'))\n",
    "b = (5, 1, Item('bar'))\n",
    "c = (1, 2, Item('grok'))\n",
    "a < b"
   ]
  },
  {
   "cell_type": "code",
   "execution_count": 121,
   "id": "4bddcc70",
   "metadata": {},
   "outputs": [],
   "source": [
    "from collections import defaultdict\n"
   ]
  },
  {
   "cell_type": "code",
   "execution_count": 123,
   "id": "63270992",
   "metadata": {},
   "outputs": [
    {
     "data": {
      "text/plain": [
       "defaultdict(list, {'a': [1, 2], 'b': [3]})"
      ]
     },
     "execution_count": 123,
     "metadata": {},
     "output_type": "execute_result"
    }
   ],
   "source": [
    "d = defaultdict(list)\n",
    "d['a'].append(1)\n",
    "d['a'].append(2)\n",
    "d['b'].append(3)\n",
    "d"
   ]
  },
  {
   "cell_type": "code",
   "execution_count": 126,
   "id": "81c3a4ac",
   "metadata": {},
   "outputs": [
    {
     "data": {
      "text/plain": [
       "defaultdict(set, {'a': {1, 2}, 'b': {3}})"
      ]
     },
     "execution_count": 126,
     "metadata": {},
     "output_type": "execute_result"
    }
   ],
   "source": [
    "d = defaultdict(set)\n",
    "d['a'].add(1)\n",
    "d['a'].add(2)\n",
    "d['b'].add(3)\n",
    "d"
   ]
  },
  {
   "cell_type": "code",
   "execution_count": 132,
   "id": "369dd252",
   "metadata": {},
   "outputs": [],
   "source": [
    "d = {}\n",
    "pairs = {('a',1), ('b',2)}\n",
    "for key, value in pairs:\n",
    "    if key not in d:\n",
    "        d[key] = []\n",
    "    d[key].append(value)\n"
   ]
  },
  {
   "cell_type": "code",
   "execution_count": 130,
   "id": "1ce257d0",
   "metadata": {},
   "outputs": [
    {
     "data": {
      "text/plain": [
       "{'b': [2], 'a': [1]}"
      ]
     },
     "execution_count": 130,
     "metadata": {},
     "output_type": "execute_result"
    }
   ],
   "source": [
    "d"
   ]
  },
  {
   "cell_type": "code",
   "execution_count": 135,
   "id": "e59b697f",
   "metadata": {},
   "outputs": [],
   "source": [
    "d = defaultdict(list)\n",
    "pairs = {('a',1), ('b',2)}\n",
    "for key, value in pairs:\n",
    "    d[key].append(value)"
   ]
  },
  {
   "cell_type": "code",
   "execution_count": 136,
   "id": "2d628de8",
   "metadata": {},
   "outputs": [
    {
     "data": {
      "text/plain": [
       "defaultdict(list, {'b': [2], 'a': [1]})"
      ]
     },
     "execution_count": 136,
     "metadata": {},
     "output_type": "execute_result"
    }
   ],
   "source": [
    "d"
   ]
  },
  {
   "cell_type": "code",
   "execution_count": 137,
   "id": "e3d3cae0",
   "metadata": {},
   "outputs": [],
   "source": [
    "prices = {\n",
    "'ACME': 45.23,\n",
    "'AAPL': 612.78,\n",
    "'IBM': 205.55,\n",
    "'HPQ': 37.20,\n",
    "'FB': 10.75\n",
    "}\n",
    "cheapest = heapq.nsmallest(1, prices)"
   ]
  },
  {
   "cell_type": "code",
   "execution_count": 138,
   "id": "9afcc62c",
   "metadata": {},
   "outputs": [
    {
     "data": {
      "text/plain": [
       "['AAPL']"
      ]
     },
     "execution_count": 138,
     "metadata": {},
     "output_type": "execute_result"
    }
   ],
   "source": [
    "cheapest"
   ]
  },
  {
   "cell_type": "code",
   "execution_count": 142,
   "id": "d349f1a7",
   "metadata": {},
   "outputs": [],
   "source": [
    "min_price = min(zip(prices.values(), prices.keys()))"
   ]
  },
  {
   "cell_type": "code",
   "execution_count": 144,
   "id": "346d243b",
   "metadata": {},
   "outputs": [
    {
     "name": "stdout",
     "output_type": "stream",
     "text": [
      "(10.75, 'FB')\n"
     ]
    }
   ],
   "source": [
    "print(min_price)"
   ]
  },
  {
   "cell_type": "code",
   "execution_count": 145,
   "id": "29bcd271",
   "metadata": {},
   "outputs": [],
   "source": [
    "max_price = max(zip(prices.values(), prices.keys()))"
   ]
  },
  {
   "cell_type": "code",
   "execution_count": 146,
   "id": "5693c386",
   "metadata": {},
   "outputs": [
    {
     "name": "stdout",
     "output_type": "stream",
     "text": [
      "(612.78, 'AAPL')\n"
     ]
    }
   ],
   "source": [
    "print(max_price)"
   ]
  },
  {
   "cell_type": "code",
   "execution_count": 149,
   "id": "70900fce",
   "metadata": {},
   "outputs": [],
   "source": [
    "prices_sorted = sorted(zip(prices.values(), prices.keys()))"
   ]
  },
  {
   "cell_type": "code",
   "execution_count": 150,
   "id": "8b8931c1",
   "metadata": {},
   "outputs": [
    {
     "name": "stdout",
     "output_type": "stream",
     "text": [
      "[(10.75, 'FB'), (37.2, 'HPQ'), (45.23, 'ACME'), (205.55, 'IBM'), (612.78, 'AAPL')]\n"
     ]
    }
   ],
   "source": [
    "print(prices_sorted)"
   ]
  },
  {
   "cell_type": "code",
   "execution_count": 153,
   "id": "2ed1ee86",
   "metadata": {},
   "outputs": [
    {
     "data": {
      "text/plain": [
       "(10.75, 'FB')"
      ]
     },
     "execution_count": 153,
     "metadata": {},
     "output_type": "execute_result"
    }
   ],
   "source": [
    "prices_sorted[0]"
   ]
  },
  {
   "cell_type": "code",
   "execution_count": 154,
   "id": "cc841c3b",
   "metadata": {},
   "outputs": [
    {
     "data": {
      "text/plain": [
       "'FB'"
      ]
     },
     "execution_count": 154,
     "metadata": {},
     "output_type": "execute_result"
    }
   ],
   "source": [
    "min(prices, key=lambda k: prices[k])"
   ]
  },
  {
   "cell_type": "code",
   "execution_count": 155,
   "id": "9685dc5f",
   "metadata": {},
   "outputs": [],
   "source": [
    "a = {\n",
    "'x' : 1,\n",
    "'y' : 2,\n",
    "'z' : 3\n",
    "}\n",
    "b = {\n",
    "'w' : 10,\n",
    "'x' : 11,\n",
    "'y' : 2\n",
    "}"
   ]
  },
  {
   "cell_type": "code",
   "execution_count": 157,
   "id": "aa49334f",
   "metadata": {},
   "outputs": [
    {
     "data": {
      "text/plain": [
       "{'x', 'y'}"
      ]
     },
     "execution_count": 157,
     "metadata": {},
     "output_type": "execute_result"
    }
   ],
   "source": [
    "a.keys() & b.keys()"
   ]
  },
  {
   "cell_type": "code",
   "execution_count": 159,
   "id": "34e3a079",
   "metadata": {},
   "outputs": [
    {
     "data": {
      "text/plain": [
       "{'z'}"
      ]
     },
     "execution_count": 159,
     "metadata": {},
     "output_type": "execute_result"
    }
   ],
   "source": [
    "a.keys() - b.keys()"
   ]
  },
  {
   "cell_type": "code",
   "execution_count": 160,
   "id": "aecf3d73",
   "metadata": {},
   "outputs": [
    {
     "data": {
      "text/plain": [
       "{('y', 2)}"
      ]
     },
     "execution_count": 160,
     "metadata": {},
     "output_type": "execute_result"
    }
   ],
   "source": [
    "a.items() & b.items()"
   ]
  },
  {
   "cell_type": "code",
   "execution_count": 161,
   "id": "ad79b867",
   "metadata": {},
   "outputs": [
    {
     "ename": "NameError",
     "evalue": "name 'dedupe' is not defined",
     "output_type": "error",
     "traceback": [
      "\u001b[1;31m---------------------------------------------------------------------------\u001b[0m",
      "\u001b[1;31mNameError\u001b[0m                                 Traceback (most recent call last)",
      "\u001b[1;32m<ipython-input-161-1f304ad18104>\u001b[0m in \u001b[0;36m<module>\u001b[1;34m\u001b[0m\n\u001b[0;32m      1\u001b[0m \u001b[0ma\u001b[0m \u001b[1;33m=\u001b[0m \u001b[1;33m[\u001b[0m \u001b[1;33m{\u001b[0m\u001b[1;34m'x'\u001b[0m\u001b[1;33m:\u001b[0m\u001b[1;36m1\u001b[0m\u001b[1;33m,\u001b[0m \u001b[1;34m'y'\u001b[0m\u001b[1;33m:\u001b[0m\u001b[1;36m2\u001b[0m\u001b[1;33m}\u001b[0m\u001b[1;33m,\u001b[0m \u001b[1;33m{\u001b[0m\u001b[1;34m'x'\u001b[0m\u001b[1;33m:\u001b[0m\u001b[1;36m1\u001b[0m\u001b[1;33m,\u001b[0m \u001b[1;34m'y'\u001b[0m\u001b[1;33m:\u001b[0m\u001b[1;36m3\u001b[0m\u001b[1;33m}\u001b[0m\u001b[1;33m,\u001b[0m \u001b[1;33m{\u001b[0m\u001b[1;34m'x'\u001b[0m\u001b[1;33m:\u001b[0m\u001b[1;36m1\u001b[0m\u001b[1;33m,\u001b[0m \u001b[1;34m'y'\u001b[0m\u001b[1;33m:\u001b[0m\u001b[1;36m2\u001b[0m\u001b[1;33m}\u001b[0m\u001b[1;33m,\u001b[0m \u001b[1;33m{\u001b[0m\u001b[1;34m'x'\u001b[0m\u001b[1;33m:\u001b[0m\u001b[1;36m2\u001b[0m\u001b[1;33m,\u001b[0m \u001b[1;34m'y'\u001b[0m\u001b[1;33m:\u001b[0m\u001b[1;36m4\u001b[0m\u001b[1;33m}\u001b[0m\u001b[1;33m]\u001b[0m\u001b[1;33m\u001b[0m\u001b[1;33m\u001b[0m\u001b[0m\n\u001b[1;32m----> 2\u001b[1;33m \u001b[0mlist\u001b[0m\u001b[1;33m(\u001b[0m\u001b[0mdedupe\u001b[0m\u001b[1;33m(\u001b[0m\u001b[0ma\u001b[0m\u001b[1;33m,\u001b[0m \u001b[0mkey\u001b[0m\u001b[1;33m=\u001b[0m\u001b[1;32mlambda\u001b[0m \u001b[0md\u001b[0m\u001b[1;33m:\u001b[0m \u001b[1;33m(\u001b[0m\u001b[0md\u001b[0m\u001b[1;33m[\u001b[0m\u001b[1;34m'x'\u001b[0m\u001b[1;33m]\u001b[0m\u001b[1;33m,\u001b[0m\u001b[0md\u001b[0m\u001b[1;33m[\u001b[0m\u001b[1;34m'y'\u001b[0m\u001b[1;33m]\u001b[0m\u001b[1;33m)\u001b[0m\u001b[1;33m)\u001b[0m\u001b[1;33m)\u001b[0m\u001b[1;33m\u001b[0m\u001b[1;33m\u001b[0m\u001b[0m\n\u001b[0m\u001b[0;32m      3\u001b[0m \u001b[1;33m\u001b[0m\u001b[0m\n",
      "\u001b[1;31mNameError\u001b[0m: name 'dedupe' is not defined"
     ]
    }
   ],
   "source": [
    " a = [ {'x':1, 'y':2}, {'x':1, 'y':3}, {'x':1, 'y':2}, {'x':2, 'y':4}]\n",
    " list(dedupe(a, key=lambda d: (d['x'],d['y'])))\n",
    "                                         "
   ]
  },
  {
   "cell_type": "code",
   "execution_count": 164,
   "id": "96e97203",
   "metadata": {},
   "outputs": [],
   "source": [
    "def dedupe(items):\n",
    "    new_items = []\n",
    "    for item in items:\n",
    "        if item not in new_items:\n",
    "            new_items.append(item)\n",
    "    return new_items"
   ]
  },
  {
   "cell_type": "code",
   "execution_count": 165,
   "id": "80086de7",
   "metadata": {},
   "outputs": [
    {
     "data": {
      "text/plain": [
       "[1, 4, 2, 7]"
      ]
     },
     "execution_count": 165,
     "metadata": {},
     "output_type": "execute_result"
    }
   ],
   "source": [
    "a = [1, 4, 2, 1, 7, 2, 4]\n",
    "dedupe(a)"
   ]
  },
  {
   "cell_type": "code",
   "execution_count": 169,
   "id": "14d9c6e8",
   "metadata": {},
   "outputs": [],
   "source": [
    "from collections import ChainMap"
   ]
  },
  {
   "cell_type": "code",
   "execution_count": 171,
   "id": "acc3ef09",
   "metadata": {},
   "outputs": [
    {
     "data": {
      "text/plain": [
       "ChainMap({'x': 1, 'z': 3}, {'y': 2, 'z': 4})"
      ]
     },
     "execution_count": 171,
     "metadata": {},
     "output_type": "execute_result"
    }
   ],
   "source": [
    "a = {'x': 1, 'z': 3 }\n",
    "b = {'y': 2, 'z': 4 }\n",
    "merged = ChainMap(a,b)\n",
    "merged"
   ]
  },
  {
   "cell_type": "code",
   "execution_count": 172,
   "id": "6c217089",
   "metadata": {},
   "outputs": [
    {
     "data": {
      "text/plain": [
       "1"
      ]
     },
     "execution_count": 172,
     "metadata": {},
     "output_type": "execute_result"
    }
   ],
   "source": [
    "merged['x']"
   ]
  },
  {
   "cell_type": "code",
   "execution_count": 173,
   "id": "ddb0867c",
   "metadata": {},
   "outputs": [
    {
     "data": {
      "text/plain": [
       "3"
      ]
     },
     "execution_count": 173,
     "metadata": {},
     "output_type": "execute_result"
    }
   ],
   "source": [
    "merged['x'] = 3\n",
    "merged['x']"
   ]
  },
  {
   "cell_type": "code",
   "execution_count": 2,
   "id": "c7f3a45c",
   "metadata": {},
   "outputs": [],
   "source": [
    "fruits = [\"apple\", \"banana\", \"cherry\"]\n",
    "x, y, z = fruits"
   ]
  },
  {
   "cell_type": "code",
   "execution_count": 3,
   "id": "b237e748",
   "metadata": {},
   "outputs": [
    {
     "name": "stdout",
     "output_type": "stream",
     "text": [
      "apple\n",
      "banana\n",
      "cherry\n"
     ]
    }
   ],
   "source": [
    "print(x)\n",
    "print(y)\n",
    "print(z)"
   ]
  },
  {
   "cell_type": "code",
   "execution_count": 4,
   "id": "d2c07f61",
   "metadata": {},
   "outputs": [
    {
     "name": "stdout",
     "output_type": "stream",
     "text": [
      "apple\n",
      "banana\n",
      "['cherry', 'strawberry', 'raspberry']\n"
     ]
    }
   ],
   "source": [
    "fruits = (\"apple\", \"banana\", \"cherry\", \"strawberry\", \"raspberry\")\n",
    "(green, yellow, *red) = fruits\n",
    "print(green)\n",
    "print(yellow)\n",
    "print(red)"
   ]
  },
  {
   "cell_type": "code",
   "execution_count": 6,
   "id": "fcb41410",
   "metadata": {},
   "outputs": [
    {
     "name": "stdout",
     "output_type": "stream",
     "text": [
      "apple\n",
      "banana\n",
      "cherry\n"
     ]
    }
   ],
   "source": [
    "thistuple = (\"apple\", \"banana\", \"cherry\")\n",
    "for x in thistuple:\n",
    "    print(x)"
   ]
  },
  {
   "cell_type": "code",
   "execution_count": 7,
   "id": "25bf6fb5",
   "metadata": {},
   "outputs": [
    {
     "name": "stdout",
     "output_type": "stream",
     "text": [
      "apple\n",
      "banana\n",
      "cherry\n"
     ]
    }
   ],
   "source": [
    "thistuple = (\"apple\", \"banana\", \"cherry\")\n",
    "for i in range(len(thistuple)):\n",
    "    print(thistuple[i])"
   ]
  },
  {
   "cell_type": "code",
   "execution_count": 1,
   "id": "67edb0cd",
   "metadata": {},
   "outputs": [
    {
     "name": "stdout",
     "output_type": "stream",
     "text": [
      "apple\n",
      "banana\n",
      "cherry\n"
     ]
    }
   ],
   "source": [
    "thistuple = (\"apple\", \"banana\", \"cherry\")\n",
    "i = 0\n",
    "while i < len(thistuple):\n",
    "    print(thistuple[i])\n",
    "    i = i +1"
   ]
  },
  {
   "cell_type": "code",
   "execution_count": 2,
   "id": "2882f089",
   "metadata": {},
   "outputs": [
    {
     "name": "stdout",
     "output_type": "stream",
     "text": [
      "('a', 'b', 'c', 1, 2, 3)\n"
     ]
    }
   ],
   "source": [
    "tuple1 = (\"a\", \"b\" , \"c\")\n",
    "tuple2 = (1, 2, 3)\n",
    "\n",
    "tuple3 = tuple1 + tuple2\n",
    "print(tuple3)"
   ]
  },
  {
   "cell_type": "code",
   "execution_count": null,
   "id": "9cfe0971",
   "metadata": {},
   "outputs": [],
   "source": [
    "fruits = (\"apple\", \"banana\", \"cherry\")\n",
    "mytuple = fruits * 2\n",
    "print(mytuple)"
   ]
  },
  {
   "cell_type": "code",
   "execution_count": null,
   "id": "cae0b588",
   "metadata": {},
   "outputs": [],
   "source": []
  }
 ],
 "metadata": {
  "kernelspec": {
   "display_name": "Python 3",
   "language": "python",
   "name": "python3"
  },
  "language_info": {
   "codemirror_mode": {
    "name": "ipython",
    "version": 3
   },
   "file_extension": ".py",
   "mimetype": "text/x-python",
   "name": "python",
   "nbconvert_exporter": "python",
   "pygments_lexer": "ipython3",
   "version": "3.8.8"
  }
 },
 "nbformat": 4,
 "nbformat_minor": 5
}
