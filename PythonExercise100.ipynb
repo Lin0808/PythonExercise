{
 "cells": [
  {
   "cell_type": "code",
   "execution_count": null,
   "id": "35b12e93",
   "metadata": {},
   "outputs": [],
   "source": [
    "# 1. Write a program to find all numbers from 2000 to 3200 inclusive\n",
    "#that are divisible by 7 but not divisible by 5. \n",
    "#The resulting numbers are separated by commas and printed on a single line."
   ]
  },
  {
   "cell_type": "code",
   "execution_count": 16,
   "id": "bdf0b5d8",
   "metadata": {},
   "outputs": [
    {
     "name": "stdout",
     "output_type": "stream",
     "text": [
      "2002,2009,2016,2023,2037,2044,2051,2058,2072,2079,2086,2093,2107,2114,2121,2128,2142,2149,2156,2163,2177,2184,2191,2198,2212,2219,2226,2233,2247,2254,2261,2268,2282,2289,2296,2303,2317,2324,2331,2338,2352,2359,2366,2373,2387,2394,2401,2408,2422,2429,2436,2443,2457,2464,2471,2478,2492,2499,2506,2513,2527,2534,2541,2548,2562,2569,2576,2583,2597,2604,2611,2618,2632,2639,2646,2653,2667,2674,2681,2688,2702,2709,2716,2723,2737,2744,2751,2758,2772,2779,2786,2793,2807,2814,2821,2828,2842,2849,2856,2863,2877,2884,2891,2898,2912,2919,2926,2933,2947,2954,2961,2968,2982,2989,2996,3003,3017,3024,3031,3038,3052,3059,3066,3073,3087,3094,3101,3108,3122,3129,3136,3143,3157,3164,3171,3178,3192,3199\n"
     ]
    }
   ],
   "source": [
    "res = []\n",
    "for i in range(2000,3201):\n",
    "    if (i % 7 == 0) and (i % 5 !=0):\n",
    "       \n",
    "         res.append(str(i)) # join kann only be used for string itarate \n",
    "print(','.join(res))\n"
   ]
  },
  {
   "cell_type": "code",
   "execution_count": null,
   "id": "5f4733f7",
   "metadata": {},
   "outputs": [],
   "source": [
    "# 2. Write a program that can calculate the factorial of a given number, with the results printed on one line separated by commas;"
   ]
  },
  {
   "cell_type": "code",
   "execution_count": 30,
   "id": "2d127fe2",
   "metadata": {},
   "outputs": [
    {
     "name": "stdout",
     "output_type": "stream",
     "text": [
      "please input a number:\n",
      "5\n"
     ]
    },
    {
     "data": {
      "text/plain": [
       "120"
      ]
     },
     "execution_count": 30,
     "metadata": {},
     "output_type": "execute_result"
    }
   ],
   "source": [
    "\n",
    "def fac(i):\n",
    "    if i == 0:\n",
    "        return 1\n",
    "  \n",
    "    return i * fac(i-1)\n",
    "   \n",
    "print('please input a number:')\n",
    "x = int(input())\n",
    "fac(x)"
   ]
  },
  {
   "cell_type": "code",
   "execution_count": null,
   "id": "6727df0d",
   "metadata": {},
   "outputs": [],
   "source": [
    "# 3. Using a given integer n, write a program to generate a dictionary containing (i, i×i) that contains integers from 1 to n (both) and then print the dictionary.\n",
    "\n",
    "#Suppose the following input is provided to the program:8 then the output is:{1:1, 2:4, 3:9, 4:16, 5:25, 6:36,,7:49, 8:64}"
   ]
  },
  {
   "cell_type": "code",
   "execution_count": 39,
   "id": "07f319fa",
   "metadata": {},
   "outputs": [
    {
     "name": "stdout",
     "output_type": "stream",
     "text": [
      "please input a number:\n",
      "8\n",
      "{1: 1, 2: 4, 3: 9, 4: 16, 5: 25, 6: 36, 7: 49, 8: 64}\n"
     ]
    }
   ],
   "source": [
    "def f(i):\n",
    "    d = {}\n",
    "    for j in range(1,i+1):\n",
    "        k = j\n",
    "        v = j*j\n",
    "        d.update({k:v})\n",
    "    print(d) \n",
    "print('please input a number:')\n",
    "x = int(input())\n",
    "f(x)\n",
    "   "
   ]
  },
  {
   "cell_type": "code",
   "execution_count": null,
   "id": "0d1c15b9",
   "metadata": {},
   "outputs": [],
   "source": [
    "# 4. Write a program that takes a comma-separated sequence of numbers from the console and generates a list and tuple containing each number;\n",
    "\n",
    "#Suppose, the following inputs are provided to the program: 34 years,67 years,55 years,33 years,12 days,98 years; then the output is: ['34', '67', '55', '33', '12', '98'] ('34', '67', '55', '33', '12', '98')"
   ]
  },
  {
   "cell_type": "code",
   "execution_count": 45,
   "id": "935f5140",
   "metadata": {},
   "outputs": [
    {
     "name": "stdout",
     "output_type": "stream",
     "text": [
      "plese input a nummber :\n",
      "34 years,67 years,55 years,33 years,12 days\n",
      "['34', '67', '55', '33', '12']\n",
      "('34', '67', '55', '33', '12')\n"
     ]
    }
   ],
   "source": [
    "import re\n",
    "print('plese input a couple of  nummber :')\n",
    "vals = input()\n",
    "I = vals.split(',')\n",
    "k = re.findall(r'[0-9]+', vals)\n",
    "t = tuple(k)\n",
    "print(k)\n",
    "print(t)\n",
    "\n"
   ]
  },
  {
   "cell_type": "code",
   "execution_count": null,
   "id": "6c8858dc",
   "metadata": {},
   "outputs": [],
   "source": [
    "# 5. Define a class with at least two methods: i. getString: Get the string from console input; ii. printString: Print the string in uppercase letters and write simple test functions to test the class methods."
   ]
  },
  {
   "cell_type": "code",
   "execution_count": 54,
   "id": "f749b5a5",
   "metadata": {},
   "outputs": [
    {
     "name": "stdout",
     "output_type": "stream",
     "text": [
      "please inout the string :\n",
      "Print the string in uppercase letters\n",
      "PRINT THE STRING IN UPPERCASE LETTERS\n"
     ]
    }
   ],
   "source": [
    "class InputOutString(object):\n",
    "    def _init_(self):\n",
    "        self.s=\"\"\n",
    "    def getString(self):\n",
    "        print('please inout the string :')\n",
    "        self.s = input()\n",
    "    def printString(self):\n",
    "        print(self.s.upper())\n",
    "strObj = InputOutString()\n",
    "strObj.getString()\n",
    "strObj.printString() "
   ]
  },
  {
   "cell_type": "code",
   "execution_count": null,
   "id": "dcc71db3",
   "metadata": {},
   "outputs": [],
   "source": [
    "#6.Write a program that calculates the value of a + aa + aaa + aaaa with the given number as the value of a."
   ]
  },
  {
   "cell_type": "code",
   "execution_count": 67,
   "id": "001a67c5",
   "metadata": {},
   "outputs": [
    {
     "name": "stdout",
     "output_type": "stream",
     "text": [
      "input the nummber：\n",
      "9\n",
      "99\n",
      "999\n",
      "11106\n"
     ]
    }
   ],
   "source": [
    "print('input the nummber：')\n",
    "a = input()\n",
    "n1 = int( \"%s\" % a )\n",
    "n2 = int( \"%s%s\" % (a,a) )\n",
    "n3 = int( \"%s%s%s\" % (a,a,a) )\n",
    "n4 = int( \"%s%s%s%s\" % (a,a,a,a) )\n",
    "print(n2)\n",
    "print(n3)\n",
    "print (n1+n2+n3+n4)"
   ]
  },
  {
   "cell_type": "code",
   "execution_count": 81,
   "id": "49376e52",
   "metadata": {},
   "outputs": [
    {
     "name": "stdout",
     "output_type": "stream",
     "text": [
      "[0, 2, 4, 6, 8]\n",
      "['0', '2', '4', '6', '8']\n"
     ]
    }
   ],
   "source": [
    "\n",
    "C = [x for x in range(10)  if x %2 == 0]\n",
    "C1 = [str(j) for j in C]\n",
    "print(C)\n",
    "print(C1)"
   ]
  },
  {
   "cell_type": "code",
   "execution_count": null,
   "id": "bee7234c",
   "metadata": {},
   "outputs": [],
   "source": []
  }
 ],
 "metadata": {
  "kernelspec": {
   "display_name": "Python 3",
   "language": "python",
   "name": "python3"
  },
  "language_info": {
   "codemirror_mode": {
    "name": "ipython",
    "version": 3
   },
   "file_extension": ".py",
   "mimetype": "text/x-python",
   "name": "python",
   "nbconvert_exporter": "python",
   "pygments_lexer": "ipython3",
   "version": "3.8.8"
  }
 },
 "nbformat": 4,
 "nbformat_minor": 5
}
